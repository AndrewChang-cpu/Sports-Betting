{
 "cells": [
  {
   "cell_type": "code",
   "execution_count": 1,
   "id": "55bfd4aa",
   "metadata": {},
   "outputs": [],
   "source": [
    "import pandas as pd\n",
    "from io import StringIO"
   ]
  },
  {
   "cell_type": "code",
   "execution_count": 2,
   "id": "9d5b49d8",
   "metadata": {},
   "outputs": [],
   "source": [
    "# Sample data\n",
    "data = \"\"\"\n",
    "\"game_id\",\"game_date\",\"matchup\",\"team_id.x\",\"is_home\",\"wl\",\"w\",\"l\",\"w_pct\",\"min\",\"fgm\",\"fga\",\"fg_pct\",\"fg3m\",\"fg3a\",\"fg3_pct\",\"ftm\",\"fta\",\"ft_pct\",\"oreb\",\"dreb\",\"reb\",\"ast\",\"stl\",\"blk\",\"tov\",\"pf\",\"pts\",\"a_team_id.x\",\"season_year\",\"season_type\",\"season\",\"book_name_spread\",\"book_id_spread\",\"team_id.y\",\"a_team_id.y\",\"spread1\",\"spread2\",\"price1_spread\",\"price2_spread\",\"book_name_total\",\"book_id_total\",\"team_id\",\"a_team_id\",\"total1\",\"total2\",\"price1_total\",\"price2_total\"\n",
    "20600003,2006-11-01,\"ATL @ PHI\",1610612755,\"t\",\"W\",1,0,1,240,31,74,0.419,3,9,0.333,23,25,1,15,32,47,19,10,6,16,22,88,1610612737,2006,\"Regular Season\",\"2006-07\",\"Bookmaker\",93,1610612737,1610612755,5.5,-5.5,-110,-110,\"Pinnacle Sports\",238,1610612737,1610612755,199,199,-111,101\n",
    "20600003,2006-11-01,\"PHI vs. ATL\",1610612737,\"f\",\"L\",0,1,0,240,26,78,0.333,4,17,0.235,19,22,1,17,25,42,11,9,4,18,24,75,1610612755,2006,\"Regular Season\",\"2006-07\",\"Pinnacle Sports\",238,1610612737,1610612755,5.5,-5.5,-102,-108,\"Pinnacle Sports\",238,1610612737,1610612755,199,199,-111,101\n",
    "20600004,2006-11-01,\"IND @ CHA\",1610612766,\"t\",\"L\",0,1,0,240,37,78,0.474,4,10,0.4,21,32,1,11,35,46,23,8,7,22,29,99,1610612754,2006,\"Regular Season\",\"2006-07\",\"5Dimes\",19,1610612754,1610612766,-1,1,-110,-110,\"5Dimes\",19,1610612754,1610612766,193.5,193.5,-110,-110\n",
    "20600004,2006-11-01,\"CHA vs. IND\",1610612754,\"f\",\"W\",1,0,1,240,35,86,0.407,6,16,0.375,30,41,1,18,32,50,26,14,5,17,26,106,1610612766,2006,\"Regular Season\",\"2006-07\",\"5Dimes\",19,1610612754,1610612766,-1,1,-110,-110,\"5Dimes\",19,1610612754,1610612766,193.5,193.5,-110,-110\n",
    "\"\"\"\n",
    "\n",
    "# Read the data into a pandas DataFrame\n",
    "df = pd.read_csv(StringIO(data))\n",
    "\n",
    "# Merge the DataFrame with itself to include opposing team's stats\n",
    "merged_df = pd.merge(\n",
    "    df,\n",
    "    df,\n",
    "    left_on=[\"game_id\", \"team_id.x\"],\n",
    "    right_on=[\"game_id\", \"a_team_id.x\"],\n",
    "    suffixes=(\"\", \"_opp\")\n",
    ")"
   ]
  },
  {
   "cell_type": "code",
   "execution_count": null,
   "id": "28ebfe84",
   "metadata": {},
   "outputs": [
    {
     "name": "stdout",
     "output_type": "stream",
     "text": [
      "    game_id   game_date      matchup   team_id.x is_home wl  w  l  w_pct  min  \\\n",
      "0  20600003  2006-11-01    ATL @ PHI  1610612755       t  W  1  0      1  240   \n",
      "1  20600003  2006-11-01  PHI vs. ATL  1610612737       f  L  0  1      0  240   \n",
      "2  20600004  2006-11-01    IND @ CHA  1610612766       t  L  0  1      0  240   \n",
      "3  20600004  2006-11-01  CHA vs. IND  1610612754       f  W  1  0      1  240   \n",
      "\n",
      "   ...  ft_pct_opp  oreb_opp  dreb_opp  reb_opp  ast_opp  stl_opp  blk_opp  \\\n",
      "0  ...           1        17        25       42       11        9        4   \n",
      "1  ...           1        15        32       47       19       10        6   \n",
      "2  ...           1        18        32       50       26       14        5   \n",
      "3  ...           1        11        35       46       23        8        7   \n",
      "\n",
      "   tov_opp  pf_opp  pts_opp  \n",
      "0       18      24       75  \n",
      "1       16      22       88  \n",
      "2       17      26      106  \n",
      "3       22      29       99  \n",
      "\n",
      "[4 rows x 53 columns]\n"
     ]
    }
   ],
   "source": [
    "# Drop duplicate columns and rename for clarity\n",
    "columns_to_keep = [\n",
    "    \"game_id\", \"game_date\", \"matchup\", \"team_id.x\", \"is_home\", \"wl\", \"w\", \"l\", \"w_pct\", \"min\", \"fgm\", \"fga\", \"fg_pct\",\n",
    "    \"fg3m\", \"fg3a\", \"fg3_pct\", \"ftm\", \"fta\", \"ft_pct\", \"oreb\", \"dreb\", \"reb\", \"ast\", \"stl\", \"blk\", \"tov\", \"pf\", \"pts\",\n",
    "    \"team_id.x_opp\", \"w_pct_opp\", \"min_opp\", \"fgm_opp\", \"fga_opp\", \"fg_pct_opp\",\n",
    "    \"fg3m_opp\", \"fg3a_opp\", \"fg3_pct_opp\", \"ftm_opp\", \"fta_opp\", \"ft_pct_opp\", \"oreb_opp\", \"dreb_opp\", \"reb_opp\",\n",
    "    \"ast_opp\", \"stl_opp\", \"blk_opp\", \"tov_opp\", \"pf_opp\", \"pts_opp\"\n",
    "]\n",
    "final_df = merged_df[columns_to_keep]\n",
    "\n",
    "# Display the transformed DataFrame\n",
    "print(final_df)"
   ]
  },
  {
   "cell_type": "code",
   "execution_count": 6,
   "id": "b491450b",
   "metadata": {},
   "outputs": [],
   "source": [
    "final_df.to_csv('nba_merged.csv', index=False)"
   ]
  }
 ],
 "metadata": {
  "kernelspec": {
   "display_name": "Python 3",
   "language": "python",
   "name": "python3"
  },
  "language_info": {
   "codemirror_mode": {
    "name": "ipython",
    "version": 3
   },
   "file_extension": ".py",
   "mimetype": "text/x-python",
   "name": "python",
   "nbconvert_exporter": "python",
   "pygments_lexer": "ipython3",
   "version": "3.9.18"
  }
 },
 "nbformat": 4,
 "nbformat_minor": 5
}
