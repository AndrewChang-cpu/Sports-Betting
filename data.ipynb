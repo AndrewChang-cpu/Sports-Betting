{
 "cells": [
  {
   "cell_type": "code",
   "execution_count": 5,
   "id": "55bfd4aa",
   "metadata": {},
   "outputs": [],
   "source": [
    "import pandas as pd\n",
    "from io import StringIO"
   ]
  },
  {
   "cell_type": "code",
   "execution_count": 6,
   "id": "9d5b49d8",
   "metadata": {},
   "outputs": [],
   "source": [
    "# Sample data\n",
    "# data = \"\"\"\n",
    "# \"game_id\",\"game_date\",\"matchup\",\"team_id.x\",\"is_home\",\"wl\",\"w\",\"l\",\"w_pct\",\"min\",\"fgm\",\"fga\",\"fg_pct\",\"fg3m\",\"fg3a\",\"fg3_pct\",\"ftm\",\"fta\",\"ft_pct\",\"oreb\",\"dreb\",\"reb\",\"ast\",\"stl\",\"blk\",\"tov\",\"pf\",\"pts\",\"a_team_id.x\",\"season_year\",\"season_type\",\"season\",\"book_name_spread\",\"book_id_spread\",\"team_id.y\",\"a_team_id.y\",\"spread1\",\"spread2\",\"price1_spread\",\"price2_spread\",\"book_name_total\",\"book_id_total\",\"team_id\",\"a_team_id\",\"total1\",\"total2\",\"price1_total\",\"price2_total\"\n",
    "# 20600003,2006-11-01,\"ATL @ PHI\",1610612755,\"t\",\"W\",1,0,1,240,31,74,0.419,3,9,0.333,23,25,1,15,32,47,19,10,6,16,22,88,1610612737,2006,\"Regular Season\",\"2006-07\",\"Bookmaker\",93,1610612737,1610612755,5.5,-5.5,-110,-110,\"Pinnacle Sports\",238,1610612737,1610612755,199,199,-111,101\n",
    "# 20600003,2006-11-01,\"PHI vs. ATL\",1610612737,\"f\",\"L\",0,1,0,240,26,78,0.333,4,17,0.235,19,22,1,17,25,42,11,9,4,18,24,75,1610612755,2006,\"Regular Season\",\"2006-07\",\"Pinnacle Sports\",238,1610612737,1610612755,5.5,-5.5,-102,-108,\"Pinnacle Sports\",238,1610612737,1610612755,199,199,-111,101\n",
    "# 20600004,2006-11-01,\"IND @ CHA\",1610612766,\"t\",\"L\",0,1,0,240,37,78,0.474,4,10,0.4,21,32,1,11,35,46,23,8,7,22,29,99,1610612754,2006,\"Regular Season\",\"2006-07\",\"5Dimes\",19,1610612754,1610612766,-1,1,-110,-110,\"5Dimes\",19,1610612754,1610612766,193.5,193.5,-110,-110\n",
    "# 20600004,2006-11-01,\"CHA vs. IND\",1610612754,\"f\",\"W\",1,0,1,240,35,86,0.407,6,16,0.375,30,41,1,18,32,50,26,14,5,17,26,106,1610612766,2006,\"Regular Season\",\"2006-07\",\"5Dimes\",19,1610612754,1610612766,-1,1,-110,-110,\"5Dimes\",19,1610612754,1610612766,193.5,193.5,-110,-110\n",
    "# \"\"\"\n",
    "\n",
    "# Read the data into a pandas DataFrame\n",
    "df = pd.read_csv(\"nba.csv\")\n",
    "\n",
    "# Merge the DataFrame with itself to include opposing team's stats\n",
    "merged_df = pd.merge(\n",
    "    df,\n",
    "    df,\n",
    "    left_on=[\"game_id\", \"team_id.x\"],\n",
    "    right_on=[\"game_id\", \"a_team_id.x\"],\n",
    "    suffixes=(\"\", \"_opp\")\n",
    ")"
   ]
  },
  {
   "cell_type": "code",
   "execution_count": 9,
   "id": "28ebfe84",
   "metadata": {},
   "outputs": [
    {
     "name": "stdout",
     "output_type": "stream",
     "text": [
      "        game_id   game_date      matchup   team_id.x is_home wl  w  l  w_pct  \\\n",
      "0      20600003  2006-11-01    ATL @ PHI  1610612755       t  W  1  0    1.0   \n",
      "1      20600003  2006-11-01  PHI vs. ATL  1610612737       f  L  0  1    0.0   \n",
      "2      20600004  2006-11-01    IND @ CHA  1610612766       t  L  0  1    0.0   \n",
      "3      20600004  2006-11-01  CHA vs. IND  1610612754       f  W  1  0    1.0   \n",
      "4      20600005  2006-11-01    CHI @ ORL  1610612753       t  W  1  0    1.0   \n",
      "...         ...         ...          ...         ...     ... .. .. ..    ...   \n",
      "29795  41700402  2018-06-03    CLE @ GSW  1610612744       t  W  2  0    1.0   \n",
      "29796  41700403  2018-06-06  CLE vs. GSW  1610612744       f  W  3  0    1.0   \n",
      "29797  41700403  2018-06-06    GSW @ CLE  1610612739       t  L  0  3    0.0   \n",
      "29798  41700404  2018-06-08  CLE vs. GSW  1610612744       f  W  4  0    1.0   \n",
      "29799  41700404  2018-06-08    GSW @ CLE  1610612739       t  L  0  4    0.0   \n",
      "\n",
      "       min  ...  dreb_opp  reb_opp  ast_opp  stl_opp  blk_opp  tov_opp  \\\n",
      "0      240  ...        25       42       11        9        4       18   \n",
      "1      240  ...        32       47       19       10        6       16   \n",
      "2      240  ...        32       50       26       14        5       17   \n",
      "3      240  ...        35       46       23        8        7       22   \n",
      "4      240  ...        16       27       21        7        0       15   \n",
      "...    ...  ...       ...      ...      ...      ...      ...      ...   \n",
      "29795  240  ...        26       42       25        9        4       10   \n",
      "29796  240  ...        32       47       20        6        4       13   \n",
      "29797  240  ...        31       37       27        6        5       10   \n",
      "29798  240  ...        27       44       21        5        5       11   \n",
      "29799  240  ...        34       44       25        7       13        8   \n",
      "\n",
      "       pf_opp  pts_opp  total1  actual_spread  \n",
      "0          24       75   199.0             13  \n",
      "1          22       88   199.0            -13  \n",
      "2          26      106   193.5             -7  \n",
      "3          29       99   193.5              7  \n",
      "4          31       94   184.0             15  \n",
      "...       ...      ...     ...            ...  \n",
      "29795      15      103   216.5             19  \n",
      "29796      18      102   216.0              8  \n",
      "29797      20      110   216.0             -8  \n",
      "29798      22       85   217.0             23  \n",
      "29799      24      108   217.0            -23  \n",
      "\n",
      "[29800 rows x 51 columns]\n"
     ]
    },
    {
     "name": "stderr",
     "output_type": "stream",
     "text": [
      "C:\\Users\\Andrew\\AppData\\Local\\Temp\\ipykernel_12524\\3003682442.py:10: SettingWithCopyWarning: \n",
      "A value is trying to be set on a copy of a slice from a DataFrame.\n",
      "Try using .loc[row_indexer,col_indexer] = value instead\n",
      "\n",
      "See the caveats in the documentation: https://pandas.pydata.org/pandas-docs/stable/user_guide/indexing.html#returning-a-view-versus-a-copy\n",
      "  final_df['actual_spread'] = final_df['pts'] - final_df['pts_opp']\n"
     ]
    }
   ],
   "source": [
    "# Drop duplicate columns and rename for clarity\n",
    "columns_to_keep = [\n",
    "    \"game_id\", \"game_date\", \"matchup\", \"team_id.x\", \"is_home\", \"wl\", \"w\", \"l\", \"w_pct\", \"min\", \"fgm\", \"fga\", \"fg_pct\",\n",
    "    \"fg3m\", \"fg3a\", \"fg3_pct\", \"ftm\", \"fta\", \"ft_pct\", \"oreb\", \"dreb\", \"reb\", \"ast\", \"stl\", \"blk\", \"tov\", \"pf\", \"pts\",\n",
    "    \"team_id.x_opp\", \"w_pct_opp\", \"min_opp\", \"fgm_opp\", \"fga_opp\", \"fg_pct_opp\",\n",
    "    \"fg3m_opp\", \"fg3a_opp\", \"fg3_pct_opp\", \"ftm_opp\", \"fta_opp\", \"ft_pct_opp\", \"oreb_opp\", \"dreb_opp\", \"reb_opp\",\n",
    "    \"ast_opp\", \"stl_opp\", \"blk_opp\", \"tov_opp\", \"pf_opp\", \"pts_opp\", \"total1\"\n",
    "]\n",
    "final_df = merged_df[columns_to_keep]\n",
    "final_df['actual_spread'] = final_df['pts'] - final_df['pts_opp']\n",
    "\n",
    "# Display the transformed DataFrame\n",
    "print(final_df)"
   ]
  },
  {
   "cell_type": "code",
   "execution_count": 10,
   "id": "b491450b",
   "metadata": {},
   "outputs": [],
   "source": [
    "final_df.to_csv('nba_merged.csv', index=False)"
   ]
  }
 ],
 "metadata": {
  "kernelspec": {
   "display_name": "deep-learning",
   "language": "python",
   "name": "python3"
  },
  "language_info": {
   "codemirror_mode": {
    "name": "ipython",
    "version": 3
   },
   "file_extension": ".py",
   "mimetype": "text/x-python",
   "name": "python",
   "nbconvert_exporter": "python",
   "pygments_lexer": "ipython3",
   "version": "3.8.0"
  }
 },
 "nbformat": 4,
 "nbformat_minor": 5
}
